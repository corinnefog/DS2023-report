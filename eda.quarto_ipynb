{
  "cells": [
    {
      "cell_type": "markdown",
      "metadata": {},
      "source": [
        "---\n",
        "title: Importing Libraries\n",
        "jupyter: python3\n",
        "---"
      ],
      "id": "c8bb01a1"
    },
    {
      "cell_type": "code",
      "metadata": {},
      "source": [
        "import pandas as pd\n",
        "import numpy as np\n",
        "import matplotlib.pyplot as plt\n",
        "%matplotlib inline\n",
        "import seaborn as sns"
      ],
      "id": "c6efb5cd",
      "execution_count": null,
      "outputs": []
    },
    {
      "cell_type": "markdown",
      "metadata": {},
      "source": [
        "#### Loading the Data\n"
      ],
      "id": "adcc3e32"
    },
    {
      "cell_type": "code",
      "metadata": {},
      "source": [
        "season1 = pd.read_csv('season1.csv')\n",
        "season2 = pd.read_csv('season2.csv')"
      ],
      "id": "53cbc3b6",
      "execution_count": null,
      "outputs": []
    },
    {
      "cell_type": "markdown",
      "metadata": {},
      "source": [
        "#### Looking at the Entries\n"
      ],
      "id": "2dbeefc2"
    },
    {
      "cell_type": "code",
      "metadata": {
        "colab": {
          "base_uri": "https://localhost:8080/",
          "height": 585
        }
      },
      "source": [
        "season1.head()"
      ],
      "id": "a140c404",
      "execution_count": null,
      "outputs": []
    },
    {
      "cell_type": "code",
      "metadata": {
        "colab": {
          "base_uri": "https://localhost:8080/",
          "height": 585
        }
      },
      "source": [
        "season2.head()"
      ],
      "id": "09a27583",
      "execution_count": null,
      "outputs": []
    },
    {
      "cell_type": "code",
      "metadata": {
        "colab": {
          "base_uri": "https://localhost:8080/"
        }
      },
      "source": [
        "print(\"\\nShape of Season 1 Dataset:\", season1.shape)\n",
        "print(\"\\nShape of Season 2 Dataset:\", season2.shape)"
      ],
      "id": "222c226a",
      "execution_count": null,
      "outputs": []
    },
    {
      "cell_type": "code",
      "metadata": {
        "colab": {
          "base_uri": "https://localhost:8080/",
          "height": 1000
        }
      },
      "source": [
        "display(season1.info())"
      ],
      "id": "847c78ab",
      "execution_count": null,
      "outputs": []
    },
    {
      "cell_type": "code",
      "metadata": {
        "colab": {
          "base_uri": "https://localhost:8080/",
          "height": 1000
        }
      },
      "source": [
        "display(season2.info())"
      ],
      "id": "5d8b6c00",
      "execution_count": null,
      "outputs": []
    },
    {
      "cell_type": "markdown",
      "metadata": {},
      "source": [
        "As we can see, the datasets have both categorical variables (objects) and numerical variables (floats and integers). Let's split them up.\n",
        "\n",
        "For Season 1 Data:\n"
      ],
      "id": "c5d71a05"
    },
    {
      "cell_type": "code",
      "metadata": {
        "colab": {
          "base_uri": "https://localhost:8080/"
        }
      },
      "source": [
        "categorical_vars1 = season1.select_dtypes(include=['object']).columns.tolist()\n",
        "numerical_vars1 = season1.select_dtypes(include=['float64', 'int64']).columns.tolist()\n",
        "print(\"\\nCategorical variables:\\n\", \"\\n\".join(categorical_vars1), \"\\n\")\n",
        "print(\"Numerical variables:\\n\", \"\\n\".join(numerical_vars1))"
      ],
      "id": "fdcf0294",
      "execution_count": null,
      "outputs": []
    },
    {
      "cell_type": "markdown",
      "metadata": {},
      "source": [
        "For Season 2 Data:\n"
      ],
      "id": "c56edeea"
    },
    {
      "cell_type": "code",
      "metadata": {
        "colab": {
          "base_uri": "https://localhost:8080/"
        }
      },
      "source": [
        "categorical_vars2 = season2.select_dtypes(include=['object']).columns.tolist()\n",
        "numerical_vars2 = season2.select_dtypes(include=['float64', 'int64']).columns.tolist()\n",
        "print(\"\\nCategorical variables:\\n\", \"\\n\".join(categorical_vars2), \"\\n\")\n",
        "print(\"Numerical variables:\\n\", \"\\n\".join(numerical_vars2))"
      ],
      "id": "c4425732",
      "execution_count": null,
      "outputs": []
    },
    {
      "cell_type": "markdown",
      "metadata": {},
      "source": [
        "The variables in the two datasets are the same, so we can just use the variables list from either season.\n"
      ],
      "id": "c3eba347"
    },
    {
      "cell_type": "code",
      "metadata": {},
      "source": [
        "categorical_vars = categorical_vars1\n",
        "numerical_vars = numerical_vars1"
      ],
      "id": "41744ed8",
      "execution_count": null,
      "outputs": []
    },
    {
      "cell_type": "markdown",
      "metadata": {},
      "source": [
        "Now we want to look at the numerical data values from the two datasets separately and look at their summary statistics.\n"
      ],
      "id": "7661cfcb"
    },
    {
      "cell_type": "code",
      "metadata": {
        "colab": {
          "base_uri": "https://localhost:8080/",
          "height": 731
        }
      },
      "source": [
        "display(season1[numerical_vars].describe())\n",
        "display(season2[numerical_vars].describe())"
      ],
      "id": "e26a2e97",
      "execution_count": null,
      "outputs": []
    },
    {
      "cell_type": "markdown",
      "metadata": {},
      "source": [
        "Now we are creating two sets of dataframes to store the win/loss results for game dates and for practice (before and after games) dates separately. We're doing this so we can see whether there are win/loss trends based on player load before, during, and after the game separately. Since we played one extra game in 2022-2023 season (we got further in the ACC championships), we will leave out the outstanding game so that each season has data for the same number of games (in this case, 31).\n",
        "\n",
        "#### Data Frames for Games\n"
      ],
      "id": "fe5be273"
    },
    {
      "cell_type": "code",
      "metadata": {},
      "source": [
        "games_season1 = [\n",
        "    '11/07/2022', '11/11/2022', '11/18/2022', '11/20/2022',\n",
        "    '11/25/2022', '11/29/2022', '12/03/2022', '12/06/2022', '12/17/2022',\n",
        "    '12/20/2022', '12/28/2022', '12/31/2022', '01/03/2023', '01/07/2023',\n",
        "    '01/10/2023', '01/14/2023', '01/18/2023', '01/21/2023', '01/28/2023',\n",
        "    '01/30/2023', '02/04/2023', '02/07/2023', '02/11/2023', '02/15/2023',\n",
        "    '02/18/2023', '02/22/2023', '02/25/2023', '02/28/2023', '03/04/2023',\n",
        "    '03/09/2023', '03/10/2023'\n",
        "]\n",
        "\n",
        "results_season1 = [\n",
        "    'W', 'W', 'W', 'W', 'W', 'W', 'W', 'W', 'L', 'L', 'W', 'W', 'L', 'W', 'W',\n",
        "    'W', 'W', 'W', 'W', 'W', 'L', 'W', 'W', 'W', 'W', 'L', 'L', 'W', 'W', 'W', 'W'\n",
        "]\n",
        "\n",
        "games_dates1 = pd.to_datetime(games_season1, format='%m/%d/%Y')\n",
        "\n",
        "df1 = pd.DataFrame({\n",
        "    'Date': games_dates1,\n",
        "    'Result': results_season1\n",
        "})\n",
        "\n",
        "df1['Win'] = df1['Result'].map({'W': 1, 'L': 0})\n",
        "df1['Season'] = '2022–23'"
      ],
      "id": "18e0dade",
      "execution_count": null,
      "outputs": []
    },
    {
      "cell_type": "code",
      "metadata": {
        "colab": {
          "base_uri": "https://localhost:8080/",
          "height": 206
        }
      },
      "source": [
        "df1.head()"
      ],
      "id": "c1716eda",
      "execution_count": null,
      "outputs": []
    },
    {
      "cell_type": "code",
      "metadata": {},
      "source": [
        "games_season2 = [\n",
        "    '11/06/2023', '11/10/2023', '11/14/2023', '11/16/2023', '11/20/2023',\n",
        "    '11/22/2023', '11/29/2023', '12/02/2024', '12/05/2023', '12/16/2023',\n",
        "    '12/19/2023', '12/27/2023', '12/30/2023', '01/03/2024', '01/06/2024',\n",
        "    '01/13/2024', '01/17/2024', '01/20/2024', '01/24/2024', '01/27/2024',\n",
        "    '01/31/2024', '02/03/2024', '02/05/2024', '02/10/2024', '02/13/2024',\n",
        "    '02/17/2024', '02/19/2024', '02/24/2024', '02/28/2024', '03/02/2024',\n",
        "    '03/09/2024'\n",
        "]\n",
        "\n",
        "results_season2 = [\n",
        "    'W', 'W', 'W', 'W', 'L', 'W', 'W', 'W', 'W', 'W', 'L', 'W', 'L', 'W', 'L', 'L', 'W', 'W', 'W', 'W',\n",
        "    'W', 'W', 'W', 'W', 'L', 'W', 'L', 'L', 'W', 'L', 'W'\n",
        "]\n",
        "\n",
        "games_dates2 = pd.to_datetime(games_season2, format='%m/%d/%Y')\n",
        "\n",
        "df2 = pd.DataFrame({\n",
        "    'Date': games_dates2,\n",
        "    'Result': results_season2\n",
        "})\n",
        "\n",
        "df2['Win'] = df2['Result'].map({'W': 1, 'L': 0})\n",
        "df2['Season'] = '2023–24'"
      ],
      "id": "bc8682b5",
      "execution_count": null,
      "outputs": []
    },
    {
      "cell_type": "code",
      "metadata": {
        "colab": {
          "base_uri": "https://localhost:8080/",
          "height": 206
        }
      },
      "source": [
        "df2.head()"
      ],
      "id": "f15684fb",
      "execution_count": null,
      "outputs": []
    },
    {
      "cell_type": "markdown",
      "metadata": {},
      "source": [
        "#### Finding Win Proportions By Season\n"
      ],
      "id": "0c2990cf"
    },
    {
      "cell_type": "code",
      "metadata": {
        "colab": {
          "base_uri": "https://localhost:8080/",
          "height": 178
        }
      },
      "source": [
        "df1['Win'].value_counts(normalize=True)"
      ],
      "id": "196f39db",
      "execution_count": null,
      "outputs": []
    },
    {
      "cell_type": "code",
      "metadata": {
        "colab": {
          "base_uri": "https://localhost:8080/",
          "height": 178
        }
      },
      "source": [
        "df2['Win'].value_counts(normalize=True)"
      ],
      "id": "af0e1010",
      "execution_count": null,
      "outputs": []
    },
    {
      "cell_type": "markdown",
      "metadata": {},
      "source": [
        "#### Data Frames for Practice (Before Games)\n"
      ],
      "id": "4a281376"
    },
    {
      "cell_type": "code",
      "metadata": {},
      "source": [
        "season1['Date'] = pd.to_datetime(season1['Date']).dt.normalize()\n",
        "season2['Date'] = pd.to_datetime(season2['Date']).dt.normalize()"
      ],
      "id": "20c6b37b",
      "execution_count": null,
      "outputs": []
    },
    {
      "cell_type": "code",
      "metadata": {},
      "source": [
        "before_games_season1 = [\n",
        "    '11/06/2022', '11/10/2022', '11/13/2022', '11/17/2022', '11/19/2022',\n",
        "    '11/24/2022', '11/28/2022', '12/04/2022', '12/05/2022', '12/16/2022',\n",
        "    '12/19/2022', '12/27/2022', '12/30/2022', '01/02/2023', '01/06/2023',\n",
        "    '01/09/2023', '01/13/2023', '01/17/2023', '01/20/2023', '01/27/2023',\n",
        "    '01/29/2023', '02/03/2023', '02/06/2023', '02/10/2023', '02/14/2023',\n",
        "    '02/17/2023', '02/21/2023', '02/24/2023', '02/27/2023', '03/03/2023']\n",
        "\n",
        "before_games_season2 = [\n",
        "    '11/05/2023', '11/09/2023', '11/13/2023', '11/15/2023', '11/19/2023',\n",
        "    '11/21/2023', '11/28/2023', '12/01/2024', '12/04/2023', '12/15/2023',\n",
        "    '12/18/2023', '12/26/2023', '12/29/2023', '01/02/2024', '01/05/2024',\n",
        "    '01/12/2024', '01/16/2024', '01/19/2024', '01/23/2024', '01/26/2024',\n",
        "    '01/30/2024', '02/02/2024', '02/06/2024', '02/09/2024', '02/12/2024',\n",
        "    '02/16/2024', '02/18/2024', '02/23/2024', '02/27/2024', '03/01/2024',\n",
        "    '03/08/2024']\n",
        "\n",
        "before_games_dates1 = pd.to_datetime(before_games_season1).normalize()\n",
        "before_games_dates2 = pd.to_datetime(before_games_season2).normalize()\n",
        "\n",
        "before_games1 = season1[season1['Date'].isin(before_games_dates1)]\n",
        "before_games2 = season2[season2['Date'].isin(before_games_dates2)]"
      ],
      "id": "9da871fc",
      "execution_count": null,
      "outputs": []
    },
    {
      "cell_type": "markdown",
      "metadata": {},
      "source": [
        "#### Data Frames for Practice (After Games)\n"
      ],
      "id": "9f299532"
    },
    {
      "cell_type": "code",
      "metadata": {},
      "source": [
        "after_games_season1 = [\n",
        "    '11/08/2022', '11/12/2022', '11/15/2022', '11/19/2022', '11/21/2022',\n",
        "    '11/26/2022', '11/30/2022', '12/04/2022', '12/07/2022', '12/18/2022',\n",
        "    '12/21/2022', '12/29/2022', '01/01/2022', '01/04/2023', '01/08/2023',\n",
        "    '01/11/2023', '01/15/2023', '01/19/2023', '01/22/2023', '01/29/2023',\n",
        "    '01/31/2023', '02/05/2023', '02/08/2023', '02/12/2023', '02/16/2023',\n",
        "    '02/19/2023', '02/23/2023', '02/26/2023', '03/01/2023', '03/05/2023']\n",
        "\n",
        "after_games_season2 = [\n",
        "    '11/07/2023', '11/11/2023', '11/15/2023', '11/17/2023', '11/21/2023',\n",
        "    '11/23/2023', '11/30/2023', '12/03/2024', '12/06/2023', '12/17/2023',\n",
        "    '12/20/2023', '12/28/2023', '12/31/2023', '01/04/2024', '01/07/2024',\n",
        "    '01/14/2024', '01/18/2024', '01/21/2024', '01/25/2024', '01/28/2024',\n",
        "    '02/01/2024', '02/04/2024', '02/06/2024', '02/11/2024', '02/14/2024',\n",
        "    '02/18/2024', '02/20/2024', '02/25/2024', '02/29/2024', '03/03/2024',\n",
        "    '03/10/2024']\n",
        "\n",
        "after_games_dates1 = pd.to_datetime(after_games_season1).normalize()\n",
        "after_games_dates2 = pd.to_datetime(after_games_season2).normalize()\n",
        "\n",
        "after_games1 = season1[season1['Date'].isin(after_games_dates1)]\n",
        "after_games2 = season2[season2['Date'].isin(after_games_dates2)]"
      ],
      "id": "8d2f19ec",
      "execution_count": null,
      "outputs": []
    },
    {
      "cell_type": "markdown",
      "metadata": {},
      "source": [
        "#### Cumulative Wins Graph\n",
        "\n",
        "First, with our in-game dataframe, we can create a visual of the wins (cumulatively) we have each season by game number. By doing so, we can look for any trends in how the seasons progress e.g. strong starts, mid-season slumps, momentum building toward playoffs, etc.\n"
      ],
      "id": "4c231208"
    },
    {
      "cell_type": "code",
      "metadata": {
        "colab": {
          "base_uri": "https://localhost:8080/",
          "height": 564
        }
      },
      "source": [
        "df1['Cumulative Wins'] = df1['Win'].cumsum()\n",
        "df2['Cumulative Wins'] = df2['Win'].cumsum()\n",
        "\n",
        "df1['Game #'] = range(1, len(df2) + 1)\n",
        "df2['Game #'] = range(1, len(df1) + 1)\n",
        "\n",
        "plt.figure(figsize=(10, 6))\n",
        "plt.plot(df1['Game #'], df1['Cumulative Wins'], label='2022–23', marker='o', color='blue')\n",
        "plt.plot(df2['Game #'], df2['Cumulative Wins'], label='2023–24', marker='o', color='green')\n",
        "plt.title('Cumulative Wins by Game #')\n",
        "plt.xlabel('Game Number')\n",
        "plt.ylabel('Cumulative Wins')\n",
        "plt.legend()\n",
        "sns.despine()\n",
        "plt.show()"
      ],
      "id": "d4192d63",
      "execution_count": null,
      "outputs": []
    },
    {
      "cell_type": "markdown",
      "metadata": {},
      "source": [
        "The two seasons seemm pretty similar in that the slopes of the two graphs are similar. It shows there's not much difference in the momentum of specific time periods within each season.\n",
        "\n",
        "#### Correlation Heatmaps for Key Metrics\n",
        "\n",
        "Now, we want to understand the relationships between the key metrics: total player load, player load per minute, IMA accel total, IMA decel total, and explosive efforts, so we plot correlation heatmaps for those metrics for each season. We are most interested in seeing if there's a correlation between total player load and explosive efforts.\n"
      ],
      "id": "0cd5b47c"
    },
    {
      "cell_type": "code",
      "metadata": {},
      "source": [
        "key_metrics1 = season1[['Total Player Load', 'Player Load Per Minute', 'IMA Accel Total',\n",
        "                   'IMA Decel Total', 'Explosive Efforts']]\n",
        "\n",
        "key_metrics2 = season2[['Total Player Load', 'Player Load Per Minute', 'IMA Accel Total',\n",
        "                   'IMA Decel Total', 'Explosive Efforts']]"
      ],
      "id": "b00825ac",
      "execution_count": null,
      "outputs": []
    },
    {
      "cell_type": "code",
      "metadata": {
        "colab": {
          "base_uri": "https://localhost:8080/",
          "height": 606
        }
      },
      "source": [
        "plt.figure(figsize=(12, 6))\n",
        "sns.heatmap(key_metrics1.corr(), annot=True, cmap='coolwarm', center=0)\n",
        "plt.xlabel(\"Metrics\")\n",
        "plt.ylabel(\"Metrics\")\n",
        "plt.title(\"Correlation Heatmap of Season 1 Key Metrics\", pad=20, fontsize=16)\n",
        "plt.tight_layout()\n",
        "plt.show()"
      ],
      "id": "75ed4ebf",
      "execution_count": null,
      "outputs": []
    },
    {
      "cell_type": "code",
      "metadata": {
        "colab": {
          "base_uri": "https://localhost:8080/",
          "height": 606
        }
      },
      "source": [
        "plt.figure(figsize=(12, 6))\n",
        "sns.heatmap(key_metrics2.corr(), annot=True, cmap='coolwarm', center=0)\n",
        "plt.xlabel(\"Metrics\")\n",
        "plt.ylabel(\"Metrics\")\n",
        "plt.title(\"Correlation Heatmap of Season 2 Key Metrics\", pad=20, fontsize=16)\n",
        "plt.tight_layout()\n",
        "plt.show()"
      ],
      "id": "f6e23d09",
      "execution_count": null,
      "outputs": []
    },
    {
      "cell_type": "markdown",
      "metadata": {},
      "source": [
        "For both seasons, the correlation between total player load and explosive efforts is about 0.7-0.8, which is quite strong! Let's proceed with exploring more about this relation by graphing scatterplots and seeing if there are any other patterns.\n",
        "\n",
        "#### Total Player Load vs Explosive Efforts Scatterplots\n"
      ],
      "id": "f711341e"
    },
    {
      "cell_type": "code",
      "metadata": {
        "colab": {
          "base_uri": "https://localhost:8080/",
          "height": 564
        }
      },
      "source": [
        "plt.figure(figsize=(12, 6))\n",
        "sns.scatterplot(data=season1, x=\"Total Player Load\", y=\"Explosive Efforts\", color='blue')\n",
        "sns.regplot(data=season1, x=\"Total Player Load\", y=\"Explosive Efforts\", scatter=False, color='red', line_kws={\"linestyle\":\"dashed\"})\n",
        "\n",
        "plt.title(\"Total Player Load vs Explosive Efforts (2022-2023 Season Data)\")\n",
        "plt.xlabel(\"Total Player Load\")\n",
        "plt.ylabel(\"# of Explosive Efforts\")\n",
        "plt.show()"
      ],
      "id": "2c886ff0",
      "execution_count": null,
      "outputs": []
    },
    {
      "cell_type": "code",
      "metadata": {
        "colab": {
          "base_uri": "https://localhost:8080/",
          "height": 564
        }
      },
      "source": [
        "plt.figure(figsize=(12, 6))\n",
        "sns.scatterplot(data=season2, x=\"Total Player Load\", y=\"Explosive Efforts\", color='red')\n",
        "sns.regplot(data=season2, x=\"Total Player Load\", y=\"Explosive Efforts\", scatter=False, color='blue', line_kws={\"linestyle\":\"dashed\"})\n",
        "\n",
        "plt.title(\"Total Player Load vs Explosive Efforts (2023-2024 Season Data)\")\n",
        "plt.xlabel(\"Total Player Load\")\n",
        "plt.ylabel(\"# of Explosive Efforts\")\n",
        "plt.grid(True)\n",
        "plt.show()"
      ],
      "id": "d9702bae",
      "execution_count": null,
      "outputs": []
    },
    {
      "cell_type": "markdown",
      "metadata": {},
      "source": [
        "#### Explosive Efforts Heatmap\n",
        "\n",
        "Here, we are exploring how explosive efforts by itself changed over each of the two seasons.\n"
      ],
      "id": "9a703b08"
    },
    {
      "cell_type": "code",
      "metadata": {
        "colab": {
          "base_uri": "https://localhost:8080/",
          "height": 911
        }
      },
      "source": [
        "season1['Season'] = 1\n",
        "season2['Season'] = 2\n",
        "seasons_combined = pd.concat([season1, season2])\n",
        "\n",
        "seasons_combined['Date'] = pd.to_datetime(seasons_combined['Date'], format='%m/%d/%Y', errors='coerce')\n",
        "seasons_combined['Week'] = seasons_combined['Date'].dt.isocalendar().week\n",
        "\n",
        "weekly_stats = seasons_combined.groupby(['Season', 'Week'])[['Explosive Efforts', 'Player Load Per Minute']].mean().reset_index()\n",
        "pivot_seasons = weekly_stats.pivot(index='Week', columns='Season', values='Explosive Efforts')\n",
        "\n",
        "print(seasons_combined.columns)\n",
        "\n",
        "plt.figure(figsize=(10, 6))\n",
        "sns.heatmap(pivot_seasons, annot=True, cmap='coolwarm', fmt=\".1f\")\n",
        "plt.title(\"Avg Explosive Efforts per Week by Season\")\n",
        "plt.xlabel(\"Season\")\n",
        "plt.ylabel(\"Week Number\")\n",
        "plt.show()"
      ],
      "id": "2b46fef7",
      "execution_count": null,
      "outputs": []
    },
    {
      "cell_type": "markdown",
      "metadata": {},
      "source": [
        "Looking at the heatmap for both seasons, it's interesting to see that the explosive efforts in the 2023-2024 season are consistently higher than the efforts in the 2022-2023 season. However, both seasons seem to have a similar trend where the explosive efforts dip somewhere in the middle of the season, and then increase back up towards the end. The difference is that in the 2022-2023 season, the dip is around week 11 and in 2023-2024 season the dip looks to be a little later in week 20. We also see less noticeable changes in explosive efforts throughout the season in comparison to the 2022-2023 season.\n",
        "\n",
        "#### Metrics vs Game Outcome Graphs (by each season)\n",
        "\n",
        "Now, let's analyze IMA accel total alongside the two variables above and compare all three metrics by game outcome (win/loss):\n"
      ],
      "id": "e83f0c92"
    },
    {
      "cell_type": "code",
      "metadata": {},
      "source": [
        "games1 = season1[season1['Date'].isin(games_dates1)]\n",
        "games1 = pd.merge(games1, df1[['Date', 'Result', 'Win']], on='Date', how='left')"
      ],
      "id": "bf3b5114",
      "execution_count": null,
      "outputs": []
    },
    {
      "cell_type": "code",
      "metadata": {},
      "source": [
        "games2 = season2[season2['Date'].isin(games_dates2)]\n",
        "games2 = pd.merge(games2, df2[['Date', 'Result', 'Win']], on='Date', how='left')"
      ],
      "id": "cf2899c4",
      "execution_count": null,
      "outputs": []
    },
    {
      "cell_type": "code",
      "metadata": {
        "colab": {
          "base_uri": "https://localhost:8080/",
          "height": 472
        }
      },
      "source": [
        "games1.groupby('Result')[['Total Player Load', 'IMA Accel Total', 'Explosive Efforts']].mean().plot(kind='bar')\n",
        "plt.title('Average Metrics by Game Outcome for 2022-2023 Season')\n",
        "plt.ylabel('Average Value')\n",
        "plt.xticks(rotation=0)\n",
        "plt.show()"
      ],
      "id": "384b183e",
      "execution_count": null,
      "outputs": []
    },
    {
      "cell_type": "code",
      "metadata": {
        "colab": {
          "base_uri": "https://localhost:8080/",
          "height": 472
        }
      },
      "source": [
        "games2.groupby('Result')[['Total Player Load', 'IMA Accel Total', 'Explosive Efforts']].mean().plot(kind='bar')\n",
        "plt.title('Average Metrics by Game Outcome for 2023-2024 Season')\n",
        "plt.ylabel('Average Value')\n",
        "plt.xticks(rotation=0)\n",
        "plt.show()"
      ],
      "id": "e31c68f8",
      "execution_count": null,
      "outputs": []
    },
    {
      "cell_type": "markdown",
      "metadata": {},
      "source": [
        "This is interesting, because it seems like the average values for all three metrics were unanimously lower during games we won compared to games we lost. Why is this? It is because they are in better shape and/or have better technique and thus don't have to exert as much energy to do well?\n",
        "\n",
        "#### Total Player Load Box Plot Graphs\n",
        "\n",
        "Just to look at it clearer, let's create visualizations of just total player load in wins and losses.\n"
      ],
      "id": "0d6e8d5d"
    },
    {
      "cell_type": "code",
      "metadata": {
        "colab": {
          "base_uri": "https://localhost:8080/",
          "height": 472
        }
      },
      "source": [
        "sns.boxplot(data=games1, x='Win', y='Total Player Load')\n",
        "plt.xticks([0, 1], ['Loss', 'Win'])\n",
        "plt.title('Total Player Load in Wins vs Losses')\n",
        "plt.show()"
      ],
      "id": "562ec774",
      "execution_count": null,
      "outputs": []
    },
    {
      "cell_type": "code",
      "metadata": {
        "colab": {
          "base_uri": "https://localhost:8080/",
          "height": 472
        }
      },
      "source": [
        "sns.boxplot(data=games2, x='Win', y='Total Player Load')\n",
        "plt.xticks([0, 1], ['Loss', 'Win'])\n",
        "plt.title('Total Player Load in Wins vs Losses')\n",
        "plt.show()"
      ],
      "id": "26a208f6",
      "execution_count": null,
      "outputs": []
    },
    {
      "cell_type": "markdown",
      "metadata": {},
      "source": [
        "Yes, we've comfirmed that the total player load is consistently lower during wins than losses for both seasons.\n",
        "\n",
        "#### Position Analysis Graph\n",
        "\n",
        "Now, we would like to analyze the data by player position to see if this trend still exists and if there are variations there.\n"
      ],
      "id": "3e5096a8"
    },
    {
      "cell_type": "code",
      "metadata": {},
      "source": [
        "forward1 = season1[season1['Position'] == 'Forward']\n",
        "center1 = season1[season1['Position'] == 'Guard']\n",
        "guard1 = season1[season1['Position'] == 'Center']"
      ],
      "id": "624ab2b9",
      "execution_count": null,
      "outputs": []
    },
    {
      "cell_type": "code",
      "metadata": {},
      "source": [
        "forward2 = games2[games2['Position'] == 'Forward']\n",
        "center2 = games2[games2['Position'] == 'Guard']\n",
        "guard2 = games2[games2['Position'] == 'Center']"
      ],
      "id": "24bdb66b",
      "execution_count": null,
      "outputs": []
    },
    {
      "cell_type": "code",
      "metadata": {
        "colab": {
          "base_uri": "https://localhost:8080/",
          "height": 607
        }
      },
      "source": [
        "load_by_position = games1.groupby(['Position', 'Win'])['Total Player Load'].mean().reset_index()\n",
        "plt.figure(figsize=(10, 6))\n",
        "sns.barplot(data=load_by_position, x='Position', y='Total Player Load', hue='Win')\n",
        "plt.title('Average Player Load by Position in Wins vs Losses for the 2022-2023 Season')\n",
        "plt.ylabel('Avg Total Player Load')\n",
        "plt.xlabel(None)\n",
        "plt.tight_layout()\n",
        "sns.despine()\n",
        "plt.show()"
      ],
      "id": "783219d6",
      "execution_count": null,
      "outputs": []
    },
    {
      "cell_type": "code",
      "metadata": {
        "colab": {
          "base_uri": "https://localhost:8080/",
          "height": 607
        }
      },
      "source": [
        "load_by_position = games2.groupby(['Position', 'Win'])['Total Player Load'].mean().reset_index()\n",
        "plt.figure(figsize=(10, 6))\n",
        "sns.barplot(data=load_by_position, x='Position', y='Total Player Load', hue='Win')\n",
        "plt.title('Average Player Load by Position in Wins vs Losses for the 2023-2024 Season')\n",
        "plt.ylabel('Avg Total Player Load')\n",
        "plt.xlabel(None)\n",
        "plt.tight_layout()\n",
        "sns.despine()\n",
        "plt.show()"
      ],
      "id": "26b3f872",
      "execution_count": null,
      "outputs": []
    },
    {
      "cell_type": "markdown",
      "metadata": {},
      "source": [
        "It seems like, on average (except for centers in the 2023-2024 season),  the total player load for is higher when a game is lost compared to when it is won, which corresponds to our earlier findings above before we separated by position, which still gave us that same pattern.\n",
        "\n",
        "#### Player Load by Position and Game Result Across Seasons\n",
        "\n",
        "Using the same variables as above, let's visualize our data slightly differently (different colors now represent different seasons instead of win or loss) to see if we can find any other trends that we didn't see previously.\n"
      ],
      "id": "b6c696ea"
    },
    {
      "cell_type": "code",
      "metadata": {
        "colab": {
          "base_uri": "https://localhost:8080/",
          "height": 549
        }
      },
      "source": [
        "games1['Season'] = '2022–23'\n",
        "games2['Season'] = '2023–24'\n",
        "combined = pd.concat([games1, games2])\n",
        "avg_load = combined.groupby(['Season', 'Position', 'Win'])['Total Player Load'].mean().reset_index()\n",
        "avg_load['Result'] = avg_load['Win'].map({1: 'Win', 0: 'Loss'})\n",
        "avg_load['Group'] = avg_load['Position'] + ' - ' + avg_load['Result']\n",
        "plt.figure(figsize=(14, 6))\n",
        "sns.barplot(data=avg_load, x='Group', y='Total Player Load', hue='Season', palette='Set2')\n",
        "plt.title('Player Load by Position and Game Result Across Seasons')\n",
        "plt.ylabel('Avg Total Player Load')\n",
        "plt.xlabel('Position and Game Result')\n",
        "plt.xticks(rotation=0)\n",
        "plt.legend(title='Season')\n",
        "plt.tight_layout()\n",
        "sns.despine()\n",
        "plt.show()"
      ],
      "id": "adf4c4cb",
      "execution_count": null,
      "outputs": []
    },
    {
      "cell_type": "markdown",
      "metadata": {},
      "source": [
        "There is no discernable pattern. Although, it is intriguing that forwards and guards have a decently higher player load for both wins and losses in the 2022-23 season, but centers have a **lower** player load for both wins and losses that season. This seems like the complete opposite of the other two positions, and there doesn't seem to be a reason, at least based on the responsibilities of a center, for this phenomenon. Perhaps this could be something the coaches look into to figure out the reason why.\n",
        "\n",
        "#### Player Load by Position Between Seasons (Different Hues = Win/Loss)\n"
      ],
      "id": "0b6f0d70"
    },
    {
      "cell_type": "code",
      "metadata": {
        "colab": {
          "base_uri": "https://localhost:8080/",
          "height": 656
        }
      },
      "source": [
        "combined.columns = combined.columns.str.strip()\n",
        "\n",
        "combined['Result Label'] = combined['Win'].map({1: 'Win', 0: 'Loss'})\n",
        "\n",
        "g = sns.catplot(\n",
        "    data=combined,\n",
        "    x='Position',\n",
        "    y='Total Player Load',\n",
        "    hue='Result Label',\n",
        "    col='Season',\n",
        "    kind='bar',\n",
        "    errorbar=None,\n",
        "    estimator='mean',\n",
        "    palette={'Win':'#fe5a03', 'Loss': '#130ccc'},\n",
        "    height=6,\n",
        "    aspect=1\n",
        ")\n",
        "\n",
        "g.set(xlabel=None)\n",
        "g._legend.remove()\n",
        "g.set_titles(\"{col_name}\")\n",
        "\n",
        "\n",
        "plt.suptitle(\"Avg. Player Load by Position Between Seasons\", fontsize=16, x= 0.23 , y=1.09)\n",
        "plt.text(\n",
        "    0.19, 1.01,\n",
        "    \"Organized by if the game resulted in a \",\n",
        "    fontsize=14,\n",
        "    ha='center',\n",
        "    transform=plt.gcf().transFigure\n",
        ")\n",
        "\n",
        "plt.text(\n",
        "    0.353, 1.01,\n",
        "    \"Win\",\n",
        "    fontsize=14,\n",
        "    color='#fe5a03',\n",
        "    weight='bold',\n",
        "    ha='center',\n",
        "    transform=plt.gcf().transFigure\n",
        ")\n",
        "\n",
        "plt.text(\n",
        "    0.38, 1.01,\n",
        "    \" or \",\n",
        "    fontsize=14,\n",
        "    ha='center',\n",
        "    transform=plt.gcf().transFigure\n",
        ")\n",
        "\n",
        "plt.text(\n",
        "    0.41, 1.01,\n",
        "    \"Loss\",\n",
        "    fontsize=14,\n",
        "    color='#130ccc',\n",
        "    weight='bold',\n",
        "    ha='center',\n",
        "    transform=plt.gcf().transFigure\n",
        ")\n",
        "plt.show()"
      ],
      "id": "3d3f6c9c",
      "execution_count": null,
      "outputs": []
    },
    {
      "cell_type": "markdown",
      "metadata": {},
      "source": [
        "#### Drills Analysis\n",
        "\n",
        "Now, let's look at the 'drills' periods during practice to see how player load affects the players during these periods specifically. We will make a new dataframe that only consists of the entries that are recorded during drill periods.\n"
      ],
      "id": "cd9231bf"
    },
    {
      "cell_type": "code",
      "metadata": {
        "colab": {
          "base_uri": "https://localhost:8080/",
          "height": 568
        }
      },
      "source": [
        "drills1 = season1[season1['Period'].str.contains('5v5', na=False)]\n",
        "drills1.head()"
      ],
      "id": "d9095860",
      "execution_count": null,
      "outputs": []
    },
    {
      "cell_type": "code",
      "metadata": {
        "colab": {
          "base_uri": "https://localhost:8080/",
          "height": 505
        }
      },
      "source": [
        "drills1.describe()"
      ],
      "id": "7366f10c",
      "execution_count": null,
      "outputs": []
    },
    {
      "cell_type": "code",
      "metadata": {
        "colab": {
          "base_uri": "https://localhost:8080/",
          "height": 568
        }
      },
      "source": [
        "drills2 = season2[season2['Period'].str.contains('5v5', na=False)]\n",
        "drills2.head()"
      ],
      "id": "20b6b110",
      "execution_count": null,
      "outputs": []
    },
    {
      "cell_type": "code",
      "metadata": {
        "colab": {
          "base_uri": "https://localhost:8080/",
          "height": 505
        }
      },
      "source": [
        "drills2.describe()"
      ],
      "id": "f5f9e792",
      "execution_count": null,
      "outputs": []
    },
    {
      "cell_type": "code",
      "metadata": {
        "colab": {
          "base_uri": "https://localhost:8080/",
          "height": 568
        }
      },
      "source": [
        "drills1_5vG = season1[season1['Period'].str.contains('5vG', na=False)]\n",
        "drills1_5vG.head()"
      ],
      "id": "2182aca8",
      "execution_count": null,
      "outputs": []
    },
    {
      "cell_type": "code",
      "metadata": {
        "colab": {
          "base_uri": "https://localhost:8080/",
          "height": 568
        }
      },
      "source": [
        "drills2_5vG = season2[season2['Period'].str.contains('5vG', na=False)]\n",
        "drills2_5vG.head()"
      ],
      "id": "278e8028",
      "execution_count": null,
      "outputs": []
    },
    {
      "cell_type": "code",
      "metadata": {
        "colab": {
          "base_uri": "https://localhost:8080/",
          "height": 505
        }
      },
      "source": [
        "drills1_5vG.describe()"
      ],
      "id": "ec1ca9ce",
      "execution_count": null,
      "outputs": []
    },
    {
      "cell_type": "code",
      "metadata": {
        "colab": {
          "base_uri": "https://localhost:8080/",
          "height": 505
        }
      },
      "source": [
        "drills2_5vG.describe()"
      ],
      "id": "1d53f860",
      "execution_count": null,
      "outputs": []
    },
    {
      "cell_type": "markdown",
      "metadata": {},
      "source": [
        "---\n",
        "\n",
        "#### Before VS During VS After Games Analysis\n",
        "\n",
        "Then, let's look at the differences between the dataframes for before, during, and after games.\n"
      ],
      "id": "698179d1"
    },
    {
      "cell_type": "code",
      "metadata": {
        "colab": {
          "base_uri": "https://localhost:8080/",
          "height": 505
        }
      },
      "source": [
        "before_games1.describe()"
      ],
      "id": "30f2e10f",
      "execution_count": null,
      "outputs": []
    },
    {
      "cell_type": "code",
      "metadata": {
        "colab": {
          "base_uri": "https://localhost:8080/",
          "height": 505
        }
      },
      "source": [
        "games1.describe()"
      ],
      "id": "00c8369f",
      "execution_count": null,
      "outputs": []
    },
    {
      "cell_type": "code",
      "metadata": {
        "colab": {
          "base_uri": "https://localhost:8080/",
          "height": 505
        }
      },
      "source": [
        "after_games1.describe()"
      ],
      "id": "07e6bb2c",
      "execution_count": null,
      "outputs": []
    },
    {
      "cell_type": "code",
      "metadata": {
        "colab": {
          "base_uri": "https://localhost:8080/",
          "height": 505
        }
      },
      "source": [
        "before_games2.describe()"
      ],
      "id": "3fbe16bf",
      "execution_count": null,
      "outputs": []
    },
    {
      "cell_type": "code",
      "metadata": {
        "colab": {
          "base_uri": "https://localhost:8080/",
          "height": 505
        }
      },
      "source": [
        "games2.describe()"
      ],
      "id": "a76df34d",
      "execution_count": null,
      "outputs": []
    },
    {
      "cell_type": "code",
      "metadata": {
        "colab": {
          "base_uri": "https://localhost:8080/",
          "height": 505
        }
      },
      "source": [
        "after_games2.describe()"
      ],
      "id": "4ef2a0fa",
      "execution_count": null,
      "outputs": []
    },
    {
      "cell_type": "markdown",
      "metadata": {},
      "source": [
        "#### Correlation Graph Between Total Player Load and Performance\n",
        "\n",
        "From above, we see that for both seasons on average, the total player load was highest during the games and lowest right before the games. But is there a more specific game-by-game correlation between this relationship and team's performance?\n"
      ],
      "id": "cdd1c121"
    },
    {
      "cell_type": "code",
      "metadata": {
        "colab": {
          "base_uri": "https://localhost:8080/",
          "height": 593
        }
      },
      "source": [
        "plt.figure(figsize=(12, 6))\n",
        "\n",
        "sns.lineplot(data=before_games1, x='Date', y='Total Player Load', label='Before Games')\n",
        "sns.lineplot(data=after_games1, x='Date', y='Total Player Load', label='After Games')\n",
        "\n",
        "plt.title('Total Player Load Before vs. After Games (Season 1)\\n', fontsize=16, fontweight='bold')\n",
        "plt.xlabel('Date', fontsize=12)\n",
        "plt.ylabel('Total Player Load', fontsize=12)\n",
        "plt.legend(title='Period')\n",
        "\n",
        "plt.show()"
      ],
      "id": "20567565",
      "execution_count": null,
      "outputs": []
    },
    {
      "cell_type": "code",
      "metadata": {
        "colab": {
          "base_uri": "https://localhost:8080/",
          "height": 593
        }
      },
      "source": [
        "plt.figure(figsize=(12, 6))\n",
        "\n",
        "sns.lineplot(data=before_games2, x='Date', y='Total Player Load', label='Before Games')\n",
        "sns.lineplot(data=after_games2, x='Date', y='Total Player Load', label='After Games')\n",
        "\n",
        "plt.title('Total Player Load Before vs. After Games (Season 2)\\n', fontsize=16, fontweight='bold')\n",
        "plt.xlabel('Date', fontsize=12)\n",
        "plt.ylabel('Total Player Load', fontsize=12)\n",
        "plt.legend(title='Period')\n",
        "\n",
        "plt.show()"
      ],
      "id": "918b332c",
      "execution_count": null,
      "outputs": []
    },
    {
      "cell_type": "markdown",
      "metadata": {},
      "source": [
        "There seems to be a general trend across both seasons where during the first half of the season, the total player load before and after games stay pretty similar. However, as the season goes on, we see that the total player load after games start to become significantly higher than the load before gameis building up for the players, which would lead them to physically exert themselves more during games to maintain their previous competitive performance. Additionally, there is an increase in intensity of conference play towards the end of the season and also more frequent game substitutions due to injuries that would cause players to be more tired. On the flip side, player loads before games might have been intentionally reduced in order to maximize recovery and conserve energy as the team gets closer to the postseason.\n"
      ],
      "id": "cbaa6997"
    }
  ],
  "metadata": {
    "kernelspec": {
      "name": "python3",
      "language": "python",
      "display_name": "Python 3 (ipykernel)",
      "path": "/Users/corinnefogarty/Library/Python/3.13/share/jupyter/kernels/python3"
    }
  },
  "nbformat": 4,
  "nbformat_minor": 5
}